{
 "cells": [
  {
   "cell_type": "code",
   "execution_count": 23,
   "id": "43a6982e-b10d-427d-aab3-6bc5354bef66",
   "metadata": {},
   "outputs": [],
   "source": [
    "# Import appropriate packages to clean and analyse the data\n",
    "import pandas as pd # To handle dataframes\n",
    "import plotly.express as px # To visualize data\n",
    "import numpy as np \n",
    "import matplotlib.pyplot as plt \n",
    "import calendar # To convert month names\n",
    "import streamlit as st # To upload streamlit objects\n",
    "from geopy.geocoders import Nominatim # For finding locations\n",
    "import pycountry # for grouping countries into continents"
   ]
  },
  {
   "cell_type": "code",
   "execution_count": 24,
   "id": "b9c6cabb",
   "metadata": {},
   "outputs": [],
   "source": [
    "df = pd.read_csv('./data/df_after_locations_merge.csv', parse_dates=['reported_date','encounter_date'])"
   ]
  },
  {
   "cell_type": "code",
   "execution_count": 25,
   "id": "1635a1ab",
   "metadata": {},
   "outputs": [
    {
     "data": {
      "text/plain": [
       "id                   0\n",
       "encounter_date       0\n",
       "reported_date        0\n",
       "year                 0\n",
       "month                0\n",
       "hour                 0\n",
       "season               0\n",
       "country_code       258\n",
       "country             68\n",
       "region             370\n",
       "locale             314\n",
       "latitude             0\n",
       "longitude            0\n",
       "ufo_shape         1930\n",
       "duration_secs        0\n",
       "description         15\n",
       "dtype: int64"
      ]
     },
     "execution_count": 25,
     "metadata": {},
     "output_type": "execute_result"
    }
   ],
   "source": [
    "#df should\n",
    "df.isnull().sum()"
   ]
  },
  {
   "cell_type": "markdown",
   "id": "c781e1ce",
   "metadata": {},
   "source": [
    "### 2.3.3 Check Description for Insights\n",
    "\n",
    "The second process will look to the descriptions to see if missing data can be added. This will be done for all location columns, and also the ufo shape column. Do this using a five step process:\n",
    "\n",
    "1. Create a new dataframe with null values.\n",
    "\n",
    "2. Create a list to compare the unique values to.\n",
    "\n",
    "3. Compare the two sets using the set() method.\n",
    "\n",
    "4. Determine which values should be integrated.\n",
    "\n",
    "5. Merge appropriate values.\n",
    "\n",
    "**Note:** If more time was granted, each description piece would be read to allow for values that might not yet exist in the unique values set.\n",
    "\n",
    "#### 2.3.3.1 Create Functions"
   ]
  },
  {
   "cell_type": "code",
   "execution_count": 26,
   "id": "dd4d2c13",
   "metadata": {},
   "outputs": [],
   "source": [
    "# Create description_match function that does the first 3 steps\n",
    "def description_match(dataframe, column_name):\n",
    "    # 1. Create null dataframe\n",
    "    null_df= dataframe[dataframe[column_name].isna()]\n",
    "    #drop where no description exists\n",
    "    null_df= null_df.dropna(subset='description')\n",
    "    \n",
    "    # Make description lower case for easier searching \n",
    "    df['description']= df['description'].str.lower()\n",
    "    \n",
    "    # 2. Create unique list from column to compare to\n",
    "    unique_list= np.array(dataframe[column_name].unique()).astype(str)\n",
    "    #make np.array list lower case for easier searching\n",
    "    unique_list= np.char.lower(unique_list)\n",
    "\n",
    "    # 3. Compare both sets\n",
    "    # Create set list from unique list to be able to compare intersection\n",
    "    list_set = set(unique_list)\n",
    "    \n",
    "    # Create matches list that will contain matched data\n",
    "    \n",
    "    match = []\n",
    "    \n",
    "    # Create string set by splitting words from description\n",
    "    for i in range(len(null_df)): \n",
    "        string_set = set(null_df.iloc[i,15].split())\n",
    "\n",
    "        # Where one word matches, add index, match word and description to matches list\n",
    "        if len(list_set.intersection(string_set))==1:\n",
    "            match.append([null_df.iloc[i,0], list(list_set.intersection(string_set))[0],np.nan,null_df.iloc[i,15]])\n",
    "        \n",
    "        # Where two words match, add index, both match words, and description\n",
    "        if len(list_set.intersection(string_set))== 2:\n",
    "            match.append([null_df.iloc[i,0], list(list_set.intersection(string_set))[0], list(list_set.intersection(string_set))[1],null_df.iloc[i,15]])\n",
    "            \n",
    "    # Save list as dataframe\n",
    "    potential_matches= pd.DataFrame(match)\n",
    "    \n",
    "    # Rename column names\n",
    "    potential_matches= potential_matches.rename(columns={0:'id', 1:column_name, 2:column_name+'_2', 3:'description'})\n",
    "\n",
    "    # Change column types to string\n",
    "    potential_matches[column_name]= potential_matches[column_name].astype(str)\n",
    "    potential_matches[column_name+'_2']= potential_matches[column_name+'_2'].astype(str)\n",
    "    \n",
    "    # Captialize string columns\n",
    "    potential_matches[column_name] = potential_matches[column_name].apply(lambda x: x.capitalize())\n",
    "    potential_matches[column_name+'_2'] = potential_matches[column_name+'_2'].apply(lambda x: x.capitalize())\n",
    "    \n",
    "    # Return potential_matches\n",
    "    return potential_matches"
   ]
  },
  {
   "cell_type": "code",
   "execution_count": 27,
   "id": "86b3ffe4",
   "metadata": {},
   "outputs": [],
   "source": [
    "#4. Determine which values should be integrated\n",
    "def drop_edit_rows(potential_matches, rows_to_drop, rows_to_edit=[], new_string=[]):\n",
    "    \n",
    "    #edit rows\n",
    "    for i in range(len(rows_to_edit)):\n",
    "        potential_matches.iloc[rows_to_edit[i],1] = new_string[i]\n",
    "    \n",
    "    #drop rows\n",
    "    matches = potential_matches.drop(labels= rows_to_drop)\n",
    "\n",
    "    return matches"
   ]
  },
  {
   "cell_type": "code",
   "execution_count": 28,
   "id": "8b9d0bfb",
   "metadata": {},
   "outputs": [],
   "source": [
    "# 5 Merge appropriate values\n",
    "def merge_matches(dataframe ,matches, column_name):\n",
    "    # Print sum of missing values to compare before\n",
    "    print('Number of Nan values before merge = ', dataframe[column_name].isna().sum())\n",
    "    \n",
    "    #for i in range(len(matches)):\n",
    "        #dataframe.iloc[matches.iloc[i,0], dataframe.columns.get_loc(column_name)]= matches.iloc[i,1]\n",
    "    dataframe[column_name] = dataframe[column_name].combine_first(matches[column_name])\n",
    "\n",
    "\n",
    "    combined_matches = dataframe\n",
    "        \n",
    "    # Print sum of missing values again to compare after merge\n",
    "    print('Number of Nan values after merge = ', combined_matches[column_name].isna().sum())\n",
    "    \n",
    "    return combined_matches"
   ]
  },
  {
   "cell_type": "markdown",
   "id": "e10ae133",
   "metadata": {},
   "source": [
    "#### 2.3.3.2 Countries"
   ]
  },
  {
   "cell_type": "code",
   "execution_count": 29,
   "id": "b3e0b054",
   "metadata": {},
   "outputs": [
    {
     "data": {
      "text/html": [
       "<div>\n",
       "<style scoped>\n",
       "    .dataframe tbody tr th:only-of-type {\n",
       "        vertical-align: middle;\n",
       "    }\n",
       "\n",
       "    .dataframe tbody tr th {\n",
       "        vertical-align: top;\n",
       "    }\n",
       "\n",
       "    .dataframe thead th {\n",
       "        text-align: right;\n",
       "    }\n",
       "</style>\n",
       "<table border=\"1\" class=\"dataframe\">\n",
       "  <thead>\n",
       "    <tr style=\"text-align: right;\">\n",
       "      <th></th>\n",
       "      <th>id</th>\n",
       "      <th>country</th>\n",
       "      <th>country_2</th>\n",
       "      <th>description</th>\n",
       "    </tr>\n",
       "  </thead>\n",
       "  <tbody>\n",
       "    <tr>\n",
       "      <th>0</th>\n",
       "      <td>26926</td>\n",
       "      <td>Japan</td>\n",
       "      <td>Nan</td>\n",
       "      <td>i was sitting in seat 47k (a window seat on the right side of the jet airliner) of japan airlines flight jl 060 on feb 16 2006 on my</td>\n",
       "    </tr>\n",
       "    <tr>\n",
       "      <th>1</th>\n",
       "      <td>39914</td>\n",
       "      <td>Mexico</td>\n",
       "      <td>Nan</td>\n",
       "      <td>three objects in the sky in the pacific ocean off the coast of mexico or usa on a cruise ship.</td>\n",
       "    </tr>\n",
       "  </tbody>\n",
       "</table>\n",
       "</div>"
      ],
      "text/plain": [
       "      id country country_2  \\\n",
       "0  26926   Japan       Nan   \n",
       "1  39914  Mexico       Nan   \n",
       "\n",
       "                                                                                                                            description  \n",
       "0  i was sitting in seat 47k (a window seat on the right side of the jet airliner) of japan airlines flight jl 060 on feb 16 2006 on my  \n",
       "1                                        three objects in the sky in the pacific ocean off the coast of mexico or usa on a cruise ship.  "
      ]
     },
     "execution_count": 29,
     "metadata": {},
     "output_type": "execute_result"
    }
   ],
   "source": [
    "# Steps 1-3\n",
    "# Allow for larger width to read description \n",
    "pd.options.display.max_colwidth = 1000\n",
    "\n",
    "# Run description match on country column\n",
    "country_matches= description_match(df, 'country')\n",
    "\n",
    "# Print country_matches\n",
    "country_matches"
   ]
  },
  {
   "cell_type": "code",
   "execution_count": 30,
   "id": "b37bb928",
   "metadata": {},
   "outputs": [
    {
     "data": {
      "text/plain": [
       "'United States'"
      ]
     },
     "execution_count": 30,
     "metadata": {},
     "output_type": "execute_result"
    }
   ],
   "source": [
    "df.iloc[country_matches.iloc[0,0], df.columns.get_loc('country')]"
   ]
  },
  {
   "cell_type": "code",
   "execution_count": 31,
   "id": "27ae2e5e-24c6-408b-aaac-e438eba97b5f",
   "metadata": {},
   "outputs": [
    {
     "data": {
      "text/plain": [
       "26926"
      ]
     },
     "execution_count": 31,
     "metadata": {},
     "output_type": "execute_result"
    }
   ],
   "source": [
    "country_matches.iloc[0,0]"
   ]
  },
  {
   "cell_type": "code",
   "execution_count": 32,
   "id": "b840f864-3291-4546-bd93-75b5361af146",
   "metadata": {},
   "outputs": [
    {
     "data": {
      "text/plain": [
       "8"
      ]
     },
     "execution_count": 32,
     "metadata": {},
     "output_type": "execute_result"
    }
   ],
   "source": [
    "df.columns.get_loc('country')"
   ]
  },
  {
   "cell_type": "code",
   "execution_count": 33,
   "id": "05ad392d-b9cd-43ec-bd58-539c54bf0344",
   "metadata": {},
   "outputs": [
    {
     "data": {
      "text/plain": [
       "'United States'"
      ]
     },
     "execution_count": 33,
     "metadata": {},
     "output_type": "execute_result"
    }
   ],
   "source": [
    "df.iloc[26926, 8]"
   ]
  },
  {
   "cell_type": "code",
   "execution_count": 34,
   "id": "4ddfef09-270a-442a-866c-d11dea8bb8ed",
   "metadata": {},
   "outputs": [
    {
     "data": {
      "text/plain": [
       "'United States'"
      ]
     },
     "execution_count": 34,
     "metadata": {},
     "output_type": "execute_result"
    }
   ],
   "source": [
    "df.iloc[26926,df.columns.get_loc('country')]"
   ]
  },
  {
   "cell_type": "markdown",
   "id": "7e6482f2",
   "metadata": {},
   "source": [
    "**Step 4**:\n",
    "As each description clearly relates to a country location, run merge_matches function."
   ]
  },
  {
   "cell_type": "code",
   "execution_count": 35,
   "id": "110da482",
   "metadata": {},
   "outputs": [
    {
     "name": "stdout",
     "output_type": "stream",
     "text": [
      "Number of Nan values before merge =  68\n",
      "Number of Nan values after merge =  68\n"
     ]
    }
   ],
   "source": [
    "# 5. Merge appropriate values\n",
    "# Run merge_match on all matches from above\n",
    "df= merge_matches(df, country_matches, 'country')"
   ]
  },
  {
   "cell_type": "code",
   "execution_count": 36,
   "id": "dfac9729",
   "metadata": {},
   "outputs": [
    {
     "name": "stdout",
     "output_type": "stream",
     "text": [
      "Japan\n"
     ]
    },
    {
     "data": {
      "text/html": [
       "<div>\n",
       "<style scoped>\n",
       "    .dataframe tbody tr th:only-of-type {\n",
       "        vertical-align: middle;\n",
       "    }\n",
       "\n",
       "    .dataframe tbody tr th {\n",
       "        vertical-align: top;\n",
       "    }\n",
       "\n",
       "    .dataframe thead th {\n",
       "        text-align: right;\n",
       "    }\n",
       "</style>\n",
       "<table border=\"1\" class=\"dataframe\">\n",
       "  <thead>\n",
       "    <tr style=\"text-align: right;\">\n",
       "      <th></th>\n",
       "      <th>id</th>\n",
       "      <th>encounter_date</th>\n",
       "      <th>reported_date</th>\n",
       "      <th>year</th>\n",
       "      <th>month</th>\n",
       "      <th>hour</th>\n",
       "      <th>season</th>\n",
       "      <th>country_code</th>\n",
       "      <th>country</th>\n",
       "      <th>region</th>\n",
       "      <th>locale</th>\n",
       "      <th>latitude</th>\n",
       "      <th>longitude</th>\n",
       "      <th>ufo_shape</th>\n",
       "      <th>duration_secs</th>\n",
       "      <th>description</th>\n",
       "    </tr>\n",
       "  </thead>\n",
       "  <tbody>\n",
       "    <tr>\n",
       "      <th>26909</th>\n",
       "      <td>26926</td>\n",
       "      <td>2006-02-16</td>\n",
       "      <td>2006-07-16</td>\n",
       "      <td>2006</td>\n",
       "      <td>February</td>\n",
       "      <td>0</td>\n",
       "      <td>Winter</td>\n",
       "      <td>NaN</td>\n",
       "      <td>NaN</td>\n",
       "      <td>NaN</td>\n",
       "      <td>NaN</td>\n",
       "      <td>-8.783195</td>\n",
       "      <td>-124.508523</td>\n",
       "      <td>Triangle</td>\n",
       "      <td>30.0</td>\n",
       "      <td>i was sitting in seat 47k (a window seat on the right side of the jet airliner) of japan airlines flight jl 060 on feb 16 2006 on my</td>\n",
       "    </tr>\n",
       "  </tbody>\n",
       "</table>\n",
       "</div>"
      ],
      "text/plain": [
       "          id encounter_date reported_date  year     month  hour  season  \\\n",
       "26909  26926     2006-02-16    2006-07-16  2006  February     0  Winter   \n",
       "\n",
       "      country_code country region locale  latitude   longitude ufo_shape  \\\n",
       "26909          NaN     NaN    NaN    NaN -8.783195 -124.508523  Triangle   \n",
       "\n",
       "       duration_secs  \\\n",
       "26909           30.0   \n",
       "\n",
       "                                                                                                                                description  \n",
       "26909  i was sitting in seat 47k (a window seat on the right side of the jet airliner) of japan airlines flight jl 060 on feb 16 2006 on my  "
      ]
     },
     "execution_count": 36,
     "metadata": {},
     "output_type": "execute_result"
    }
   ],
   "source": [
    "df.iloc[26926,8] = 'Japan'\n",
    "print(df.iloc[26926, 8])\n",
    "df[df['id']==26926]"
   ]
  },
  {
   "cell_type": "code",
   "execution_count": 37,
   "id": "bce416f6",
   "metadata": {},
   "outputs": [],
   "source": [
    "#df['country'] = df['country'].combine_first(country_matches['country']) # this still doesnt work\n",
    "for i in range(len(country_matches)):\n",
    "    df.iloc[country_matches.iloc[i,0], df.columns.get_loc('country')]= country_matches.iloc[i,1]\n",
    "    "
   ]
  },
  {
   "cell_type": "code",
   "execution_count": 38,
   "id": "6e4bdd00-e493-482f-a3e0-3b7a2934ff06",
   "metadata": {},
   "outputs": [
    {
     "data": {
      "text/plain": [
       "68"
      ]
     },
     "execution_count": 38,
     "metadata": {},
     "output_type": "execute_result"
    }
   ],
   "source": [
    "df['country'].isnull().sum()"
   ]
  },
  {
   "cell_type": "code",
   "execution_count": 39,
   "id": "f3c6bd15",
   "metadata": {},
   "outputs": [
    {
     "data": {
      "text/html": [
       "<div>\n",
       "<style scoped>\n",
       "    .dataframe tbody tr th:only-of-type {\n",
       "        vertical-align: middle;\n",
       "    }\n",
       "\n",
       "    .dataframe tbody tr th {\n",
       "        vertical-align: top;\n",
       "    }\n",
       "\n",
       "    .dataframe thead th {\n",
       "        text-align: right;\n",
       "    }\n",
       "</style>\n",
       "<table border=\"1\" class=\"dataframe\">\n",
       "  <thead>\n",
       "    <tr style=\"text-align: right;\">\n",
       "      <th></th>\n",
       "      <th>id</th>\n",
       "      <th>encounter_date</th>\n",
       "      <th>reported_date</th>\n",
       "      <th>year</th>\n",
       "      <th>month</th>\n",
       "      <th>hour</th>\n",
       "      <th>season</th>\n",
       "      <th>country_code</th>\n",
       "      <th>country</th>\n",
       "      <th>region</th>\n",
       "      <th>locale</th>\n",
       "      <th>latitude</th>\n",
       "      <th>longitude</th>\n",
       "      <th>ufo_shape</th>\n",
       "      <th>duration_secs</th>\n",
       "      <th>description</th>\n",
       "    </tr>\n",
       "  </thead>\n",
       "  <tbody>\n",
       "    <tr>\n",
       "      <th>26909</th>\n",
       "      <td>26926</td>\n",
       "      <td>2006-02-16</td>\n",
       "      <td>2006-07-16</td>\n",
       "      <td>2006</td>\n",
       "      <td>February</td>\n",
       "      <td>0</td>\n",
       "      <td>Winter</td>\n",
       "      <td>NaN</td>\n",
       "      <td>NaN</td>\n",
       "      <td>NaN</td>\n",
       "      <td>NaN</td>\n",
       "      <td>-8.783195</td>\n",
       "      <td>-124.508523</td>\n",
       "      <td>Triangle</td>\n",
       "      <td>30.0</td>\n",
       "      <td>i was sitting in seat 47k (a window seat on the right side of the jet airliner) of japan airlines flight jl 060 on feb 16 2006 on my</td>\n",
       "    </tr>\n",
       "  </tbody>\n",
       "</table>\n",
       "</div>"
      ],
      "text/plain": [
       "          id encounter_date reported_date  year     month  hour  season  \\\n",
       "26909  26926     2006-02-16    2006-07-16  2006  February     0  Winter   \n",
       "\n",
       "      country_code country region locale  latitude   longitude ufo_shape  \\\n",
       "26909          NaN     NaN    NaN    NaN -8.783195 -124.508523  Triangle   \n",
       "\n",
       "       duration_secs  \\\n",
       "26909           30.0   \n",
       "\n",
       "                                                                                                                                description  \n",
       "26909  i was sitting in seat 47k (a window seat on the right side of the jet airliner) of japan airlines flight jl 060 on feb 16 2006 on my  "
      ]
     },
     "execution_count": 39,
     "metadata": {},
     "output_type": "execute_result"
    }
   ],
   "source": [
    "df[df['id']==26926]"
   ]
  },
  {
   "cell_type": "code",
   "execution_count": 40,
   "id": "e86334e6",
   "metadata": {},
   "outputs": [],
   "source": [
    "# As country data is now complete as possible, link missing country codes\n",
    "# Save country_codes\n",
    "country_codes=df[['country_code','country']]\n",
    "\n",
    "# Group by 'country' and fill missing values in 'country_code' with the mode of each group\n",
    "filled_country_codes = country_codes.copy()  # Create a copy of the dataFrame to avoid copyerror\n",
    "filled_country_codes['country_code'] = country_codes.groupby('country')['country_code'].transform(lambda x: x.fillna(x.mode().iloc[0] if not x.mode().empty else np.nan))\n",
    "\n",
    "# Merge the filled_country_codes DataFrame back to the original DataFrame based on the index\n",
    "df['country_code'] = filled_country_codes['country_code']\n",
    "     "
   ]
  },
  {
   "cell_type": "markdown",
   "id": "1917ed95",
   "metadata": {},
   "source": [
    "#### 2.3.3.3 Regions"
   ]
  },
  {
   "cell_type": "code",
   "execution_count": 41,
   "id": "8d2488f7",
   "metadata": {},
   "outputs": [
    {
     "data": {
      "text/html": [
       "<div>\n",
       "<style scoped>\n",
       "    .dataframe tbody tr th:only-of-type {\n",
       "        vertical-align: middle;\n",
       "    }\n",
       "\n",
       "    .dataframe tbody tr th {\n",
       "        vertical-align: top;\n",
       "    }\n",
       "\n",
       "    .dataframe thead th {\n",
       "        text-align: right;\n",
       "    }\n",
       "</style>\n",
       "<table border=\"1\" class=\"dataframe\">\n",
       "  <thead>\n",
       "    <tr style=\"text-align: right;\">\n",
       "      <th></th>\n",
       "      <th>id</th>\n",
       "      <th>region</th>\n",
       "      <th>region_2</th>\n",
       "      <th>description</th>\n",
       "    </tr>\n",
       "  </thead>\n",
       "  <tbody>\n",
       "    <tr>\n",
       "      <th>0</th>\n",
       "      <td>12980</td>\n",
       "      <td>Bali</td>\n",
       "      <td>Nan</td>\n",
       "      <td>silent ufo hanging over the ocean bali</td>\n",
       "    </tr>\n",
       "    <tr>\n",
       "      <th>1</th>\n",
       "      <td>19056</td>\n",
       "      <td>Aegean</td>\n",
       "      <td>Nan</td>\n",
       "      <td>1/2/2000  aegean sea</td>\n",
       "    </tr>\n",
       "    <tr>\n",
       "      <th>2</th>\n",
       "      <td>25137</td>\n",
       "      <td>Southeast</td>\n",
       "      <td>Nan</td>\n",
       "      <td>two brothers witness 10 to 15 spherical objects traveling southeast toward tokyo.</td>\n",
       "    </tr>\n",
       "    <tr>\n",
       "      <th>3</th>\n",
       "      <td>53934</td>\n",
       "      <td>Centre</td>\n",
       "      <td>Nan</td>\n",
       "      <td>three distinct glowing orbs over the sony centre berlin. brilliant white in colour daylight other events night time. three people saw t</td>\n",
       "    </tr>\n",
       "    <tr>\n",
       "      <th>4</th>\n",
       "      <td>60108</td>\n",
       "      <td>Cebu</td>\n",
       "      <td>Nan</td>\n",
       "      <td>i am looking at the clear skies near near the airplane path from davao city to cebu city. i was at my verandah in my home when i saw t</td>\n",
       "    </tr>\n",
       "    <tr>\n",
       "      <th>5</th>\n",
       "      <td>63181</td>\n",
       "      <td>Florida</td>\n",
       "      <td>Nan</td>\n",
       "      <td>july 6 2007  aboard the carnival liberty atlantic ocean south of florida keys  observed three round blue/green objects.</td>\n",
       "    </tr>\n",
       "    <tr>\n",
       "      <th>6</th>\n",
       "      <td>68274</td>\n",
       "      <td>Centre</td>\n",
       "      <td>Nan</td>\n",
       "      <td>three light spots converging to centre and disappearing at amazing speed</td>\n",
       "    </tr>\n",
       "  </tbody>\n",
       "</table>\n",
       "</div>"
      ],
      "text/plain": [
       "      id     region region_2  \\\n",
       "0  12980       Bali      Nan   \n",
       "1  19056     Aegean      Nan   \n",
       "2  25137  Southeast      Nan   \n",
       "3  53934     Centre      Nan   \n",
       "4  60108       Cebu      Nan   \n",
       "5  63181    Florida      Nan   \n",
       "6  68274     Centre      Nan   \n",
       "\n",
       "                                                                                                                               description  \n",
       "0                                                                                                   silent ufo hanging over the ocean bali  \n",
       "1                                                                                                                     1/2/2000  aegean sea  \n",
       "2                                                        two brothers witness 10 to 15 spherical objects traveling southeast toward tokyo.  \n",
       "3  three distinct glowing orbs over the sony centre berlin. brilliant white in colour daylight other events night time. three people saw t  \n",
       "4   i am looking at the clear skies near near the airplane path from davao city to cebu city. i was at my verandah in my home when i saw t  \n",
       "5                  july 6 2007  aboard the carnival liberty atlantic ocean south of florida keys  observed three round blue/green objects.  \n",
       "6                                                                 three light spots converging to centre and disappearing at amazing speed  "
      ]
     },
     "execution_count": 41,
     "metadata": {},
     "output_type": "execute_result"
    }
   ],
   "source": [
    "# Steps 1-3\n",
    "# Run description match on region column\n",
    "potential_region=description_match(df, 'region')\n",
    "potential_region"
   ]
  },
  {
   "cell_type": "markdown",
   "id": "9afd9a25",
   "metadata": {},
   "source": [
    "**Step 4:** Some rows are problematic and need to be deleted. For instance England is a country, not a region, the same goes for \"centre\" in row 15. Others need to be editted to reflect their true region such as rows 6, 7, 9, and 15. Information is saved in lists below."
   ]
  },
  {
   "cell_type": "code",
   "execution_count": 45,
   "id": "25045258",
   "metadata": {},
   "outputs": [],
   "source": [
    "# Save lists to edit potential_matches dataframe\n",
    "# rows to drop\n",
    "drop_regions= [6]\n",
    "\n",
    "#regions to edit\n",
    "edit_regions= [2, 3]\n",
    "\n",
    "#strings to edit regions\n",
    "new_string_regions = ['Kanto', 'Berlin']"
   ]
  },
  {
   "cell_type": "code",
   "execution_count": 46,
   "id": "d377edd7",
   "metadata": {},
   "outputs": [
    {
     "data": {
      "text/html": [
       "<div>\n",
       "<style scoped>\n",
       "    .dataframe tbody tr th:only-of-type {\n",
       "        vertical-align: middle;\n",
       "    }\n",
       "\n",
       "    .dataframe tbody tr th {\n",
       "        vertical-align: top;\n",
       "    }\n",
       "\n",
       "    .dataframe thead th {\n",
       "        text-align: right;\n",
       "    }\n",
       "</style>\n",
       "<table border=\"1\" class=\"dataframe\">\n",
       "  <thead>\n",
       "    <tr style=\"text-align: right;\">\n",
       "      <th></th>\n",
       "      <th>id</th>\n",
       "      <th>region</th>\n",
       "      <th>region_2</th>\n",
       "      <th>description</th>\n",
       "    </tr>\n",
       "  </thead>\n",
       "  <tbody>\n",
       "    <tr>\n",
       "      <th>0</th>\n",
       "      <td>12980</td>\n",
       "      <td>Bali</td>\n",
       "      <td>Nan</td>\n",
       "      <td>silent ufo hanging over the ocean bali</td>\n",
       "    </tr>\n",
       "    <tr>\n",
       "      <th>1</th>\n",
       "      <td>19056</td>\n",
       "      <td>Aegean</td>\n",
       "      <td>Nan</td>\n",
       "      <td>1/2/2000  aegean sea</td>\n",
       "    </tr>\n",
       "    <tr>\n",
       "      <th>2</th>\n",
       "      <td>25137</td>\n",
       "      <td>Kanto</td>\n",
       "      <td>Nan</td>\n",
       "      <td>two brothers witness 10 to 15 spherical objects traveling southeast toward tokyo.</td>\n",
       "    </tr>\n",
       "    <tr>\n",
       "      <th>3</th>\n",
       "      <td>53934</td>\n",
       "      <td>Berlin</td>\n",
       "      <td>Nan</td>\n",
       "      <td>three distinct glowing orbs over the sony centre berlin. brilliant white in colour daylight other events night time. three people saw t</td>\n",
       "    </tr>\n",
       "    <tr>\n",
       "      <th>4</th>\n",
       "      <td>60108</td>\n",
       "      <td>Cebu</td>\n",
       "      <td>Nan</td>\n",
       "      <td>i am looking at the clear skies near near the airplane path from davao city to cebu city. i was at my verandah in my home when i saw t</td>\n",
       "    </tr>\n",
       "    <tr>\n",
       "      <th>5</th>\n",
       "      <td>63181</td>\n",
       "      <td>Florida</td>\n",
       "      <td>Nan</td>\n",
       "      <td>july 6 2007  aboard the carnival liberty atlantic ocean south of florida keys  observed three round blue/green objects.</td>\n",
       "    </tr>\n",
       "  </tbody>\n",
       "</table>\n",
       "</div>"
      ],
      "text/plain": [
       "      id   region region_2  \\\n",
       "0  12980     Bali      Nan   \n",
       "1  19056   Aegean      Nan   \n",
       "2  25137    Kanto      Nan   \n",
       "3  53934   Berlin      Nan   \n",
       "4  60108     Cebu      Nan   \n",
       "5  63181  Florida      Nan   \n",
       "\n",
       "                                                                                                                               description  \n",
       "0                                                                                                   silent ufo hanging over the ocean bali  \n",
       "1                                                                                                                     1/2/2000  aegean sea  \n",
       "2                                                        two brothers witness 10 to 15 spherical objects traveling southeast toward tokyo.  \n",
       "3  three distinct glowing orbs over the sony centre berlin. brilliant white in colour daylight other events night time. three people saw t  \n",
       "4   i am looking at the clear skies near near the airplane path from davao city to cebu city. i was at my verandah in my home when i saw t  \n",
       "5                  july 6 2007  aboard the carnival liberty atlantic ocean south of florida keys  observed three round blue/green objects.  "
      ]
     },
     "execution_count": 46,
     "metadata": {},
     "output_type": "execute_result"
    }
   ],
   "source": [
    "# Pass through the drop_edit_rows function\n",
    "region_matches= drop_edit_rows(potential_region, drop_regions, edit_regions, new_string_regions)\n",
    "\n",
    "# print result\n",
    "region_matches"
   ]
  },
  {
   "cell_type": "code",
   "execution_count": 49,
   "id": "7241021c",
   "metadata": {},
   "outputs": [
    {
     "name": "stdout",
     "output_type": "stream",
     "text": [
      "Number of Nan values before merge =  370\n",
      "Number of Nan values after merge =  370\n"
     ]
    }
   ],
   "source": [
    "# 5. Merge appropriate values\n",
    "\n",
    "# Run merge_match on all matches from above\n",
    "df= merge_matches(df, region_matches, 'region')"
   ]
  },
  {
   "cell_type": "markdown",
   "id": "c0e5a34e",
   "metadata": {},
   "source": [
    "#### 2.3.3.4 Locale"
   ]
  },
  {
   "cell_type": "code",
   "execution_count": 50,
   "id": "45168340",
   "metadata": {},
   "outputs": [
    {
     "data": {
      "text/html": [
       "<div>\n",
       "<style scoped>\n",
       "    .dataframe tbody tr th:only-of-type {\n",
       "        vertical-align: middle;\n",
       "    }\n",
       "\n",
       "    .dataframe tbody tr th {\n",
       "        vertical-align: top;\n",
       "    }\n",
       "\n",
       "    .dataframe thead th {\n",
       "        text-align: right;\n",
       "    }\n",
       "</style>\n",
       "<table border=\"1\" class=\"dataframe\">\n",
       "  <thead>\n",
       "    <tr style=\"text-align: right;\">\n",
       "      <th></th>\n",
       "      <th>id</th>\n",
       "      <th>locale</th>\n",
       "      <th>locale_2</th>\n",
       "      <th>description</th>\n",
       "    </tr>\n",
       "  </thead>\n",
       "  <tbody>\n",
       "    <tr>\n",
       "      <th>0</th>\n",
       "      <td>515</td>\n",
       "      <td>Bright</td>\n",
       "      <td>Nan</td>\n",
       "      <td>bright object seemingly appeared out of nowhere in the indian ocean miles from any land.</td>\n",
       "    </tr>\n",
       "    <tr>\n",
       "      <th>1</th>\n",
       "      <td>1882</td>\n",
       "      <td>White</td>\n",
       "      <td>Nan</td>\n",
       "      <td>october 1990 - saudi arabia - large dark triangular object - 3 white lights -  20 seconds - no sound - no stars behind object</td>\n",
       "    </tr>\n",
       "    <tr>\n",
       "      <th>2</th>\n",
       "      <td>4013</td>\n",
       "      <td>Macedonia</td>\n",
       "      <td>Nan</td>\n",
       "      <td>report from macedonia</td>\n",
       "    </tr>\n",
       "    <tr>\n",
       "      <th>3</th>\n",
       "      <td>4212</td>\n",
       "      <td>Blue</td>\n",
       "      <td>Nan</td>\n",
       "      <td>blue colour sphere was obsereved from containershipdia abt 4mtrsfrom dist of abt 8mtr.moved after twds italian coast.</td>\n",
       "    </tr>\n",
       "    <tr>\n",
       "      <th>4</th>\n",
       "      <td>4274</td>\n",
       "      <td>Bright</td>\n",
       "      <td>Nan</td>\n",
       "      <td>bright flash lightens up night sky object fires across sky at unbelievable speed&amp;#8230; ((nuforc note:  possible meteor.  pd))</td>\n",
       "    </tr>\n",
       "    <tr>\n",
       "      <th>...</th>\n",
       "      <td>...</td>\n",
       "      <td>...</td>\n",
       "      <td>...</td>\n",
       "      <td>...</td>\n",
       "    </tr>\n",
       "    <tr>\n",
       "      <th>118</th>\n",
       "      <td>74114</td>\n",
       "      <td>Trail</td>\n",
       "      <td>Nan</td>\n",
       "      <td>a flash movin slow at firstchanges into a spherical shapecirclesraces westleavin behind a hazy greenish smoke trail</td>\n",
       "    </tr>\n",
       "    <tr>\n",
       "      <th>119</th>\n",
       "      <td>74303</td>\n",
       "      <td>Orange</td>\n",
       "      <td>Nan</td>\n",
       "      <td>flashing object changes colour .     second obect-  orange sphere   does nothing except sit there.</td>\n",
       "    </tr>\n",
       "    <tr>\n",
       "      <th>120</th>\n",
       "      <td>76278</td>\n",
       "      <td>Bow</td>\n",
       "      <td>Nan</td>\n",
       "      <td>the light clearly lit up the bow of the vessel where no light should have been in the middle of the atlantic.</td>\n",
       "    </tr>\n",
       "    <tr>\n",
       "      <th>121</th>\n",
       "      <td>76932</td>\n",
       "      <td>Center</td>\n",
       "      <td>Nan</td>\n",
       "      <td>ship object was landed at the center of tol road approx 60 km from jakarta to cikampek in dawuan place</td>\n",
       "    </tr>\n",
       "    <tr>\n",
       "      <th>122</th>\n",
       "      <td>80186</td>\n",
       "      <td>Edge</td>\n",
       "      <td>Nan</td>\n",
       "      <td>silver disk shaped object with lights surrounding edge of underside which hovered for about 15 secs.</td>\n",
       "    </tr>\n",
       "  </tbody>\n",
       "</table>\n",
       "<p>123 rows × 4 columns</p>\n",
       "</div>"
      ],
      "text/plain": [
       "        id     locale locale_2  \\\n",
       "0      515     Bright      Nan   \n",
       "1     1882      White      Nan   \n",
       "2     4013  Macedonia      Nan   \n",
       "3     4212       Blue      Nan   \n",
       "4     4274     Bright      Nan   \n",
       "..     ...        ...      ...   \n",
       "118  74114      Trail      Nan   \n",
       "119  74303     Orange      Nan   \n",
       "120  76278        Bow      Nan   \n",
       "121  76932     Center      Nan   \n",
       "122  80186       Edge      Nan   \n",
       "\n",
       "                                                                                                                        description  \n",
       "0                                          bright object seemingly appeared out of nowhere in the indian ocean miles from any land.  \n",
       "1     october 1990 - saudi arabia - large dark triangular object - 3 white lights -  20 seconds - no sound - no stars behind object  \n",
       "2                                                                                                             report from macedonia  \n",
       "3             blue colour sphere was obsereved from containershipdia abt 4mtrsfrom dist of abt 8mtr.moved after twds italian coast.  \n",
       "4    bright flash lightens up night sky object fires across sky at unbelievable speed&#8230; ((nuforc note:  possible meteor.  pd))  \n",
       "..                                                                                                                              ...  \n",
       "118             a flash movin slow at firstchanges into a spherical shapecirclesraces westleavin behind a hazy greenish smoke trail  \n",
       "119                              flashing object changes colour .     second obect-  orange sphere   does nothing except sit there.  \n",
       "120                   the light clearly lit up the bow of the vessel where no light should have been in the middle of the atlantic.  \n",
       "121                          ship object was landed at the center of tol road approx 60 km from jakarta to cikampek in dawuan place  \n",
       "122                            silver disk shaped object with lights surrounding edge of underside which hovered for about 15 secs.  \n",
       "\n",
       "[123 rows x 4 columns]"
      ]
     },
     "execution_count": 50,
     "metadata": {},
     "output_type": "execute_result"
    }
   ],
   "source": [
    "# Steps 1-3\n",
    "# Run description match on locale column\n",
    "locale_matches= description_match(df, 'locale')\n",
    "\n",
    "# Show results\n",
    "locale_matches"
   ]
  },
  {
   "cell_type": "markdown",
   "id": "af3780f5",
   "metadata": {},
   "source": [
    "**Step 4:** As ample locale names are supplied, many irrelevant matches arise. For instance, Where the light has been described as bright, a match exists. Filter these out."
   ]
  },
  {
   "cell_type": "code",
   "execution_count": 51,
   "id": "561d1ca7",
   "metadata": {},
   "outputs": [],
   "source": [
    "locale_matches= locale_matches[(locale_matches['locale'] != 'Bright') & (locale_matches['locale'] != 'Blue')\n",
    "                               & (locale_matches['locale_2'].isna()==False) & (locale_matches['locale'] != 'White')\n",
    "                               & (locale_matches['locale'] != 'Edge') & (locale_matches['locale'] != 'Center')\n",
    "                               & (locale_matches['locale'] != 'Bow') & (locale_matches['locale'] != 'Oblong')\n",
    "                               & (locale_matches['locale'] != 'Tiny') & (locale_matches['locale'] != 'West')\n",
    "                               & (locale_matches['locale'] != 'Orange') & (locale_matches['locale'] != 'Star')]"
   ]
  },
  {
   "cell_type": "code",
   "execution_count": 52,
   "id": "dbbe9068",
   "metadata": {},
   "outputs": [],
   "source": [
    "# Reset index\n",
    "locale_matches= locale_matches.reset_index()"
   ]
  },
  {
   "cell_type": "code",
   "execution_count": 53,
   "id": "ba283894",
   "metadata": {},
   "outputs": [
    {
     "name": "stdout",
     "output_type": "stream",
     "text": [
      "       id      locale  locale_2                                                                                                                                  description\n",
      "0    4013   Macedonia       Nan                                                                                                                        report from macedonia\n",
      "1    4292        Hull       Nan                                                               3 red lights flying fast in loose triangular formation hull east yorkshire uk.\n",
      "2   11333    Brisbane       Nan                                                                    3 disc like crafts sighted on the eve of 2013 in brisbane area australia.\n",
      "3   14770        Lake    Bright                             at the approx time of 8.15pm a bright circular red light was spotted north east of lake macquarie nsw australia.\n",
      "4   17450       Trail      Blue        starfox shaped craft with blue glow and smoke/debris trail behind with no sound within 2500m and an altitude no higher than 400 feet.\n",
      "5   18592    Atlantic       Nan                                                               crew of lear jet over the atlantic ocean report a bizarre red strobing object.\n",
      "6   20065  Lethbridge       Nan                                                                      anomalous object with erractic flight patterns over lethbridge alberta.\n",
      "7   20878     England      Hull                                                        three orange/amber lights observed in hull england on the 27th december 2007 at 21:25\n",
      "8   22674      Maiden       Nan                                                                                                     strange object/light over maiden nc area\n",
      "9   22676       Hiram       Nan                                                                                       green light over ice skating rink in south hiram maine\n",
      "10  23713        Bell       Nan      in 1965 i was 9 years old and me and mt sister saw a fire ball craft tha looked like a acorn shaped craft somewhat like a bell with sim\n",
      "11  23782     Diamond       Nan                                                                                                                                      diamond\n",
      "12  23882    Brisbane       Nan                                                                             big black/gray object seen at the airport of brisbane australian\n",
      "13  24090        Pink       Nan                                                                                                                         pink coloured sphere\n",
      "14  25671      Cotati       Nan      i was driving north on hwy 101 over the hill from peteluma to cotati when i saw a green/blue orb pass in front of my car in the upper p\n",
      "15  28488      Poland    Winter                                                                                                          strange object in poland  97 winter\n",
      "16  28648       Point       Nan                                        several flashes from a stationary point source of light  in the night sky seen over a period of time.\n",
      "17  29030       Stone      West       heard a helicopter sound went outside and the sound stopped. saw a rectangular object moving west to east at 50 km ph. it was at stone\n",
      "18  30233     England  Yarmouth                                                       disc/saucer shaped object seen in early morning night sky over great  yarmouth england\n",
      "19  30355  Huntington     Amber                                                            amber orbs journalist and witness video and loss of time near huntington beach ca\n",
      "20  30728        Many       Nan                                 very large triangular shaped hovered for about 30-to 45 minutes over a camp in iraq.no sound many witnesses.\n",
      "21  30823     England     Essex                                                                                                            black triangle 1996 essex england\n",
      "22  30934      Friend       Nan        my friend and i were on the bus going home from school when we saw something hovering in mid-air we first thought it was a kite but t\n",
      "23  36951     Diamond       Nan                                                                                triangle or diamond shaped objects in limburg the netherlands\n",
      "24  39914      Mexico   Pacific                                               three objects in the sky in the pacific ocean off the coast of mexico or usa on a cruise ship.\n",
      "25  40933        Arab       Nan                                                                                            strange objects above dubai united arab emirates.\n",
      "26  43019      Mexico       Nan      my wife and i were on a cruise in the carribean between cozamel mexico and the grand cayman islands. we had returned to our room on the\n",
      "27  43341   Northwest       Nan       my husband and i was walking outside and we looked up to stargaze and we noticed a yellowish-glowing light moving out of the northwest\n",
      "28  43899  Lethbridge       Nan                                                                                                      ((hoax??))  north of lethbridge alberta\n",
      "29  44275       Miami       Nan  date of sighting: 03-25-2006 location of sighting: 705 miles of the coast of miami fla. and 600 miles from the bahamas&#8217; islands aboar\n",
      "30  47319    Atlantic       Nan                                               (6) six glowing green circles/discs below surface of mid- atlantic observed by navy destroyer.\n",
      "31  52421    Victoria       Nan                                                                                                       red lights seen over southern victoria\n",
      "32  52527    Hastings    Orange                                                    orange orb spotted by two 50+ year old men on the south coast ( hastings ) united kingdom\n",
      "33  52627    Atlantic       Nan                                                                                               unidentified radar contact over atlantic ocean\n",
      "34  58998    Canadian       Nan                                                                                hbccufo canadian report:  two triangle shaped flying objects.\n",
      "35  59796    Republic     Congo                                                                                            flying saucer in democratic republic of the congo\n",
      "36  65926    Atlantic    Nassau                                                       satellite-like object seen manuvering s-turns over atlantic ocean near nassau bahamas.\n",
      "37  66642       Amber       Nan                                                                                                                         amber sphere in iraq\n",
      "38  68274      Centre       Nan                                                                     three light spots converging to centre and disappearing at amazing speed\n",
      "39  68301    Atlantic       Nan                                                                                                ufo sighting 17 miles into the atlantic ocean\n",
      "40  70642      Beacon  Atlantic                                                                                         beacon type flashes over the atlantic (pilot report)\n",
      "41  71325       Surry       Nan                                                                                                                    u.f.o in surry for 1 hour\n",
      "42  73107        Many    Bright                                                                                              it was teardrop shaped with many bright lights.\n",
      "43  74114       Trail       Nan                          a flash movin slow at firstchanges into a spherical shapecirclesraces westleavin behind a hazy greenish smoke trail\n"
     ]
    }
   ],
   "source": [
    "# Drop index column\n",
    "locale_matches= locale_matches.drop(columns='index')\n",
    "\n",
    "##print all results using .to_string to view in text editor for deeper analysis\n",
    "print(locale_matches.to_string())"
   ]
  },
  {
   "cell_type": "code",
   "execution_count": 54,
   "id": "7e53cc51",
   "metadata": {},
   "outputs": [],
   "source": [
    "# Save lists to edit potential matches dataframe\n",
    "# rows to drop\n",
    "drop_locales= [9, 10, 12, 14, 15, 18, 20, 21, 22, 23, 25, 29, 31, 32, 33, 35, 36, 38, 41, 43]\n",
    "\n",
    "#locales to edit\n",
    "edit_locales= [3, 6, 16, 17, 19, 24, 39, 40]\n",
    "\n",
    "#strings to edit locales\n",
    "new_string_locales = ['Macquarie Park', 'Hull', 'Yarmouth', 'Huntington', 'Essex', 'Cozumel', 'Atlantic', 'Surrey']"
   ]
  },
  {
   "cell_type": "code",
   "execution_count": 55,
   "id": "29832060",
   "metadata": {},
   "outputs": [
    {
     "data": {
      "text/html": [
       "<div>\n",
       "<style scoped>\n",
       "    .dataframe tbody tr th:only-of-type {\n",
       "        vertical-align: middle;\n",
       "    }\n",
       "\n",
       "    .dataframe tbody tr th {\n",
       "        vertical-align: top;\n",
       "    }\n",
       "\n",
       "    .dataframe thead th {\n",
       "        text-align: right;\n",
       "    }\n",
       "</style>\n",
       "<table border=\"1\" class=\"dataframe\">\n",
       "  <thead>\n",
       "    <tr style=\"text-align: right;\">\n",
       "      <th></th>\n",
       "      <th>id</th>\n",
       "      <th>locale</th>\n",
       "      <th>locale_2</th>\n",
       "      <th>description</th>\n",
       "    </tr>\n",
       "  </thead>\n",
       "  <tbody>\n",
       "    <tr>\n",
       "      <th>0</th>\n",
       "      <td>4013</td>\n",
       "      <td>Macedonia</td>\n",
       "      <td>Nan</td>\n",
       "      <td>report from macedonia</td>\n",
       "    </tr>\n",
       "    <tr>\n",
       "      <th>1</th>\n",
       "      <td>4292</td>\n",
       "      <td>Hull</td>\n",
       "      <td>Nan</td>\n",
       "      <td>3 red lights flying fast in loose triangular formation hull east yorkshire uk.</td>\n",
       "    </tr>\n",
       "    <tr>\n",
       "      <th>2</th>\n",
       "      <td>11333</td>\n",
       "      <td>Brisbane</td>\n",
       "      <td>Nan</td>\n",
       "      <td>3 disc like crafts sighted on the eve of 2013 in brisbane area australia.</td>\n",
       "    </tr>\n",
       "    <tr>\n",
       "      <th>3</th>\n",
       "      <td>14770</td>\n",
       "      <td>Macquarie Park</td>\n",
       "      <td>Bright</td>\n",
       "      <td>at the approx time of 8.15pm a bright circular red light was spotted north east of lake macquarie nsw australia.</td>\n",
       "    </tr>\n",
       "    <tr>\n",
       "      <th>4</th>\n",
       "      <td>17450</td>\n",
       "      <td>Trail</td>\n",
       "      <td>Blue</td>\n",
       "      <td>starfox shaped craft with blue glow and smoke/debris trail behind with no sound within 2500m and an altitude no higher than 400 feet.</td>\n",
       "    </tr>\n",
       "    <tr>\n",
       "      <th>5</th>\n",
       "      <td>18592</td>\n",
       "      <td>Atlantic</td>\n",
       "      <td>Nan</td>\n",
       "      <td>crew of lear jet over the atlantic ocean report a bizarre red strobing object.</td>\n",
       "    </tr>\n",
       "    <tr>\n",
       "      <th>6</th>\n",
       "      <td>20065</td>\n",
       "      <td>Hull</td>\n",
       "      <td>Nan</td>\n",
       "      <td>anomalous object with erractic flight patterns over lethbridge alberta.</td>\n",
       "    </tr>\n",
       "    <tr>\n",
       "      <th>7</th>\n",
       "      <td>20878</td>\n",
       "      <td>England</td>\n",
       "      <td>Hull</td>\n",
       "      <td>three orange/amber lights observed in hull england on the 27th december 2007 at 21:25</td>\n",
       "    </tr>\n",
       "    <tr>\n",
       "      <th>8</th>\n",
       "      <td>22674</td>\n",
       "      <td>Maiden</td>\n",
       "      <td>Nan</td>\n",
       "      <td>strange object/light over maiden nc area</td>\n",
       "    </tr>\n",
       "    <tr>\n",
       "      <th>11</th>\n",
       "      <td>23782</td>\n",
       "      <td>Diamond</td>\n",
       "      <td>Nan</td>\n",
       "      <td>diamond</td>\n",
       "    </tr>\n",
       "    <tr>\n",
       "      <th>13</th>\n",
       "      <td>24090</td>\n",
       "      <td>Pink</td>\n",
       "      <td>Nan</td>\n",
       "      <td>pink coloured sphere</td>\n",
       "    </tr>\n",
       "    <tr>\n",
       "      <th>16</th>\n",
       "      <td>28648</td>\n",
       "      <td>Yarmouth</td>\n",
       "      <td>Nan</td>\n",
       "      <td>several flashes from a stationary point source of light  in the night sky seen over a period of time.</td>\n",
       "    </tr>\n",
       "    <tr>\n",
       "      <th>17</th>\n",
       "      <td>29030</td>\n",
       "      <td>Huntington</td>\n",
       "      <td>West</td>\n",
       "      <td>heard a helicopter sound went outside and the sound stopped. saw a rectangular object moving west to east at 50 km ph. it was at stone</td>\n",
       "    </tr>\n",
       "    <tr>\n",
       "      <th>19</th>\n",
       "      <td>30355</td>\n",
       "      <td>Essex</td>\n",
       "      <td>Amber</td>\n",
       "      <td>amber orbs journalist and witness video and loss of time near huntington beach ca</td>\n",
       "    </tr>\n",
       "    <tr>\n",
       "      <th>24</th>\n",
       "      <td>39914</td>\n",
       "      <td>Cozumel</td>\n",
       "      <td>Pacific</td>\n",
       "      <td>three objects in the sky in the pacific ocean off the coast of mexico or usa on a cruise ship.</td>\n",
       "    </tr>\n",
       "    <tr>\n",
       "      <th>26</th>\n",
       "      <td>43019</td>\n",
       "      <td>Mexico</td>\n",
       "      <td>Nan</td>\n",
       "      <td>my wife and i were on a cruise in the carribean between cozamel mexico and the grand cayman islands. we had returned to our room on the</td>\n",
       "    </tr>\n",
       "    <tr>\n",
       "      <th>27</th>\n",
       "      <td>43341</td>\n",
       "      <td>Northwest</td>\n",
       "      <td>Nan</td>\n",
       "      <td>my husband and i was walking outside and we looked up to stargaze and we noticed a yellowish-glowing light moving out of the northwest</td>\n",
       "    </tr>\n",
       "    <tr>\n",
       "      <th>28</th>\n",
       "      <td>43899</td>\n",
       "      <td>Lethbridge</td>\n",
       "      <td>Nan</td>\n",
       "      <td>((hoax??))  north of lethbridge alberta</td>\n",
       "    </tr>\n",
       "    <tr>\n",
       "      <th>30</th>\n",
       "      <td>47319</td>\n",
       "      <td>Atlantic</td>\n",
       "      <td>Nan</td>\n",
       "      <td>(6) six glowing green circles/discs below surface of mid- atlantic observed by navy destroyer.</td>\n",
       "    </tr>\n",
       "    <tr>\n",
       "      <th>34</th>\n",
       "      <td>58998</td>\n",
       "      <td>Canadian</td>\n",
       "      <td>Nan</td>\n",
       "      <td>hbccufo canadian report:  two triangle shaped flying objects.</td>\n",
       "    </tr>\n",
       "    <tr>\n",
       "      <th>37</th>\n",
       "      <td>66642</td>\n",
       "      <td>Amber</td>\n",
       "      <td>Nan</td>\n",
       "      <td>amber sphere in iraq</td>\n",
       "    </tr>\n",
       "    <tr>\n",
       "      <th>39</th>\n",
       "      <td>68301</td>\n",
       "      <td>Atlantic</td>\n",
       "      <td>Nan</td>\n",
       "      <td>ufo sighting 17 miles into the atlantic ocean</td>\n",
       "    </tr>\n",
       "    <tr>\n",
       "      <th>40</th>\n",
       "      <td>70642</td>\n",
       "      <td>Surrey</td>\n",
       "      <td>Atlantic</td>\n",
       "      <td>beacon type flashes over the atlantic (pilot report)</td>\n",
       "    </tr>\n",
       "    <tr>\n",
       "      <th>42</th>\n",
       "      <td>73107</td>\n",
       "      <td>Many</td>\n",
       "      <td>Bright</td>\n",
       "      <td>it was teardrop shaped with many bright lights.</td>\n",
       "    </tr>\n",
       "  </tbody>\n",
       "</table>\n",
       "</div>"
      ],
      "text/plain": [
       "       id          locale  locale_2  \\\n",
       "0    4013       Macedonia       Nan   \n",
       "1    4292            Hull       Nan   \n",
       "2   11333        Brisbane       Nan   \n",
       "3   14770  Macquarie Park    Bright   \n",
       "4   17450           Trail      Blue   \n",
       "5   18592        Atlantic       Nan   \n",
       "6   20065            Hull       Nan   \n",
       "7   20878         England      Hull   \n",
       "8   22674          Maiden       Nan   \n",
       "11  23782         Diamond       Nan   \n",
       "13  24090            Pink       Nan   \n",
       "16  28648        Yarmouth       Nan   \n",
       "17  29030      Huntington      West   \n",
       "19  30355           Essex     Amber   \n",
       "24  39914         Cozumel   Pacific   \n",
       "26  43019          Mexico       Nan   \n",
       "27  43341       Northwest       Nan   \n",
       "28  43899      Lethbridge       Nan   \n",
       "30  47319        Atlantic       Nan   \n",
       "34  58998        Canadian       Nan   \n",
       "37  66642           Amber       Nan   \n",
       "39  68301        Atlantic       Nan   \n",
       "40  70642          Surrey  Atlantic   \n",
       "42  73107            Many    Bright   \n",
       "\n",
       "                                                                                                                                description  \n",
       "0                                                                                                                     report from macedonia  \n",
       "1                                                            3 red lights flying fast in loose triangular formation hull east yorkshire uk.  \n",
       "2                                                                 3 disc like crafts sighted on the eve of 2013 in brisbane area australia.  \n",
       "3                          at the approx time of 8.15pm a bright circular red light was spotted north east of lake macquarie nsw australia.  \n",
       "4     starfox shaped craft with blue glow and smoke/debris trail behind with no sound within 2500m and an altitude no higher than 400 feet.  \n",
       "5                                                            crew of lear jet over the atlantic ocean report a bizarre red strobing object.  \n",
       "6                                                                   anomalous object with erractic flight patterns over lethbridge alberta.  \n",
       "7                                                     three orange/amber lights observed in hull england on the 27th december 2007 at 21:25  \n",
       "8                                                                                                  strange object/light over maiden nc area  \n",
       "11                                                                                                                                  diamond  \n",
       "13                                                                                                                     pink coloured sphere  \n",
       "16                                    several flashes from a stationary point source of light  in the night sky seen over a period of time.  \n",
       "17   heard a helicopter sound went outside and the sound stopped. saw a rectangular object moving west to east at 50 km ph. it was at stone  \n",
       "19                                                        amber orbs journalist and witness video and loss of time near huntington beach ca  \n",
       "24                                           three objects in the sky in the pacific ocean off the coast of mexico or usa on a cruise ship.  \n",
       "26  my wife and i were on a cruise in the carribean between cozamel mexico and the grand cayman islands. we had returned to our room on the  \n",
       "27   my husband and i was walking outside and we looked up to stargaze and we noticed a yellowish-glowing light moving out of the northwest  \n",
       "28                                                                                                  ((hoax??))  north of lethbridge alberta  \n",
       "30                                           (6) six glowing green circles/discs below surface of mid- atlantic observed by navy destroyer.  \n",
       "34                                                                            hbccufo canadian report:  two triangle shaped flying objects.  \n",
       "37                                                                                                                     amber sphere in iraq  \n",
       "39                                                                                            ufo sighting 17 miles into the atlantic ocean  \n",
       "40                                                                                     beacon type flashes over the atlantic (pilot report)  \n",
       "42                                                                                          it was teardrop shaped with many bright lights.  "
      ]
     },
     "execution_count": 55,
     "metadata": {},
     "output_type": "execute_result"
    }
   ],
   "source": [
    "# Pass through the drop_edit_rows function\n",
    "locale_matches= drop_edit_rows(locale_matches, drop_locales, edit_locales, new_string_locales)\n",
    "\n",
    "# print result\n",
    "locale_matches"
   ]
  },
  {
   "cell_type": "code",
   "execution_count": 57,
   "id": "3deb72e4",
   "metadata": {},
   "outputs": [
    {
     "name": "stdout",
     "output_type": "stream",
     "text": [
      "Number of Nan values before merge =  314\n",
      "Number of Nan values after merge =  314\n"
     ]
    }
   ],
   "source": [
    "# 5.Merge appropriate values\n",
    "# Run merge_match on all matches from above\n",
    "df= merge_matches(df, locale_matches, 'locale')"
   ]
  },
  {
   "cell_type": "markdown",
   "id": "4a845f60",
   "metadata": {},
   "source": [
    "#### 2.3.3.5 UFO Shape"
   ]
  },
  {
   "cell_type": "code",
   "execution_count": 58,
   "id": "532974e5",
   "metadata": {},
   "outputs": [],
   "source": [
    "# Steps 1-3\n",
    "# Run description match on ufo_shape column\n",
    "ufo_matches= description_match(df, 'ufo_shape')\n",
    "\n",
    "#print all results using .to_string to view in text editor for deeper analysis\n",
    "print(ufo_matches.to_string())"
   ]
  },
  {
   "cell_type": "markdown",
   "id": "0cd1a585",
   "metadata": {},
   "source": [
    "**Step 4:** Taking a quick look, description words are not always representative. The biggest culptrit is those of shape \"Other\". Cross has also been used inaccurately. Drop these."
   ]
  },
  {
   "cell_type": "code",
   "execution_count": null,
   "id": "ec1f5f47",
   "metadata": {},
   "outputs": [],
   "source": [
    "# Find ufo_shape values where other or cross has been selected\n",
    "ufo_other= ufo_matches[ufo_matches['ufo_shape']=='Other']['id']\n",
    "ufo_cross= ufo_matches[ufo_matches['ufo_shape']=='Cross']['id']\n",
    "\n",
    "# Combine other and cross values, find index values\n",
    "drop_ufo = pd.concat([ufo_cross, ufo_other]).index"
   ]
  },
  {
   "cell_type": "code",
   "execution_count": null,
   "id": "ec474c77",
   "metadata": {},
   "outputs": [],
   "source": [
    "# Pass through the drop_edit_rows function\n",
    "drop_edit_rows(ufo_matches, drop_ufo)"
   ]
  },
  {
   "cell_type": "code",
   "execution_count": null,
   "id": "127c1ea7",
   "metadata": {},
   "outputs": [],
   "source": [
    "# 5.Merge appropriate values\n",
    "# Run merge_match on all matches from above\n",
    "df= merge_matches(ufo_matches, 'ufo_shape')"
   ]
  },
  {
   "cell_type": "markdown",
   "id": "944ce865",
   "metadata": {},
   "source": [
    "#### 2.3.3.6 Null Values Summary\n",
    "\n",
    "Using the coordinate and description methods has lead to a decrease in null values of over 1000 values. Missing data for each column is less than 0.5%, except ufo_shape which has 1.6% of values missing.\n"
   ]
  },
  {
   "cell_type": "code",
   "execution_count": null,
   "id": "672f9e63",
   "metadata": {},
   "outputs": [],
   "source": [
    "#Percentage of values that are null\n",
    "round(df.isnull().sum()/len(df),3)*100"
   ]
  },
  {
   "cell_type": "markdown",
   "id": "5aedee09",
   "metadata": {},
   "source": [
    "### 2.3.4 Duplicates\n",
    "\n",
    "Each entry is treated with an individual ID, so duplicates on every metric will be zero. However, duplicates may be found if two of the same events are reported. The chances that the exact string description and the local area it is reported in is the exact same is low. Thus, duplicates will be dropped on these metrics."
   ]
  },
  {
   "cell_type": "code",
   "execution_count": null,
   "id": "dcad14d6",
   "metadata": {},
   "outputs": [],
   "source": [
    "# Show all duplicates\n",
    "print('Duplicates on all metrics= ',df.duplicated().sum())\n",
    "\n",
    "# Print the length of duplicated rows based on description and locale\n",
    "print('Duplicates on description and locale= ',len(df[df.duplicated(['description','locale'])]))\n",
    "\n",
    "# Drop these rows\n",
    "df= df.drop_duplicates(['description','locale'])"
   ]
  },
  {
   "cell_type": "markdown",
   "id": "d864e436",
   "metadata": {},
   "source": [
    "### 2.3.5 Add Useful Data\n",
    "\n",
    "Data which will be useful includes data on time, ufo color and continent in which the encounter is reported.\n",
    "\n",
    "#### 2.3.5.1 Time Data\n",
    "The duration column currently accounts for encounters based on seconds. Create new columns to see how duration works on a minutely, hourly and daily basis. Create an age category based on how long ago the encounter was reported. Also create a column which shows the difference between when the encounter was reported and when the encounter actually occurred."
   ]
  },
  {
   "cell_type": "code",
   "execution_count": null,
   "id": "9b011583",
   "metadata": {},
   "outputs": [],
   "source": [
    "# Create duration in minutes column\n",
    "df['duration_mins'] = df.loc[:,'duration_secs'] / 60\n",
    "\n",
    "# Create duration in hours\n",
    "df['duration_hours'] = df['duration_mins'] / 60\n",
    "\n",
    "# Create duration in days \n",
    "df['duration_days'] = df['duration_hours'] / 24"
   ]
  },
  {
   "cell_type": "code",
   "execution_count": null,
   "id": "38bed310",
   "metadata": {},
   "outputs": [],
   "source": [
    "# Create age column which calculates how many years have passed since it was reported\n",
    "df['age'] = 2023 - (df['encounter_date'].dt.year + (df['encounter_date'].dt.month/12))"
   ]
  },
  {
   "cell_type": "code",
   "execution_count": null,
   "id": "5cf22d6d",
   "metadata": {},
   "outputs": [],
   "source": [
    "# Create reported difference column which is the difference in years between the reported and encountered dates\n",
    "df['reported_diff'] = round((df['reported_date'].dt.year + df['reported_date'].dt.month/12)\n",
    "                            - (df['encounter_date'].dt.year + df['encounter_date'].dt.month/12), 2)"
   ]
  },
  {
   "cell_type": "markdown",
   "id": "0195151a",
   "metadata": {},
   "source": [
    "#### 2.3.5.2 Color Data\n",
    "Add data which assigns a color based on the encounter. "
   ]
  },
  {
   "cell_type": "code",
   "execution_count": null,
   "id": "b78276b2",
   "metadata": {},
   "outputs": [],
   "source": [
    "# Create list of color\n",
    "colors={'white','yellow','orange','red','green','blue','purple','brown','silver','gold','gray','grey','black', 'amber', 'aqua','indigo','pink'}\n",
    "\n",
    "# Create ufo_color column\n",
    "df['ufo_color'] = np.nan\n"
   ]
  },
  {
   "cell_type": "code",
   "execution_count": null,
   "id": "36e41e75",
   "metadata": {},
   "outputs": [],
   "source": [
    "df.iloc[:,16]"
   ]
  },
  {
   "cell_type": "code",
   "execution_count": null,
   "id": "2b9997ec",
   "metadata": {},
   "outputs": [],
   "source": [
    "\n",
    "# Create loop to determine if details column provides insight into ufo colors\n",
    "for i in range(len(df)): \n",
    "    if df.iloc[i,15] is not np.nan: # Where description is not null\n",
    "        string_set = set(df.iloc[i,15].split()) # Split description\n",
    "        if len(colors.intersection(string_set))==1: # where there is only one color:\n",
    "            matched_color = list(colors.intersection(string_set))[0] # Let the color be the first mentioned color\n",
    "            if matched_color not in (df.iloc[i,8:11]).values: # Ensure that the matched color is not referring to the country, region, or locale instead\n",
    "                df.iloc[i,21] = matched_color\n",
    "                \n",
    "        if len(colors.intersection(string_set)) > 1: # where there are multiple colors\n",
    "            if matched_color not in (df.iloc[i,8:11]).values: # Ensure that the matched color is not referring to the country, region, or locale instead\n",
    "                df.iloc[i,21] = 'multicolor'\n",
    "                \n",
    "    "
   ]
  },
  {
   "cell_type": "code",
   "execution_count": null,
   "id": "16da9713",
   "metadata": {},
   "outputs": [],
   "source": [
    "# Consolidate Gray Colors\n",
    "df['ufo_color'] = df['ufo_color'].replace('grey','gray')"
   ]
  },
  {
   "cell_type": "code",
   "execution_count": null,
   "id": "4cc34021",
   "metadata": {},
   "outputs": [],
   "source": [
    "# Capitalize color column\n",
    "df['ufo_color']= df['ufo_color'].str.capitalize()"
   ]
  },
  {
   "cell_type": "code",
   "execution_count": null,
   "id": "95ef14cf",
   "metadata": {},
   "outputs": [],
   "source": [
    "# Percentage of each color\n",
    "round(df['ufo_color'].value_counts(dropna=False)/len(df),4)*100"
   ]
  },
  {
   "cell_type": "markdown",
   "id": "bac5470a",
   "metadata": {},
   "source": [
    "**Note:** As much of this data is still missing, this data will only supplement our analysis. Also this assumes that if a color is mentioned it is in reference to the ufo color. However, these colors should not be referencing the location name which has been accounted for."
   ]
  },
  {
   "cell_type": "markdown",
   "id": "ec79202c",
   "metadata": {},
   "source": [
    "#### 2.3.5.3 Continent Data\n",
    "\n",
    "Create list of countries in their respective continents\n"
   ]
  },
  {
   "cell_type": "code",
   "execution_count": null,
   "id": "d34ebb9b",
   "metadata": {},
   "outputs": [],
   "source": []
  },
  {
   "cell_type": "code",
   "execution_count": null,
   "id": "d650b222",
   "metadata": {},
   "outputs": [],
   "source": [
    "country_unique= df['country'].unique()\n",
    "\n",
    "country_code_unique=df['country_code'].unique()\n",
    "\n",
    "print(len(country_code_unique))\n",
    "len(country_unique)\n"
   ]
  },
  {
   "cell_type": "code",
   "execution_count": null,
   "id": "1e5bf3aa",
   "metadata": {},
   "outputs": [],
   "source": [
    "country_continents= pd.DataFrame([country_code_unique,country_unique])\n",
    "country_continents"
   ]
  },
  {
   "cell_type": "markdown",
   "id": "2baef008",
   "metadata": {},
   "source": [
    "## 2 Analysis\n",
    "\n",
    "The analysis will "
   ]
  },
  {
   "cell_type": "code",
   "execution_count": null,
   "id": "922bf443-a556-41e1-89b6-49a5280fc0dc",
   "metadata": {},
   "outputs": [],
   "source": [
    "# Order months\n",
    "months_ordered = ['January', 'February', 'March', 'April','May', 'June', 'July', 'August', 'September', 'October', 'November', 'December']\n",
    "\n",
    "# Create scatter with plot.ly, \n",
    "fig = px.scatter( df, x='year', y= 'duration_secs', color='month', hover_data='ufo_shape', \\\n",
    "\n",
    "                category_orders={'month': months_ordered})\n",
    "\n",
    "# Name axis titles and title\n",
    "fig.update_layout(xaxis_title='Year', yaxis_title=('Time (secs)'), \n",
    "                  title= '',\n",
    "                 legend_title = 'Month')\n",
    "\n",
    "# Show figure\n",
    "fig.show()"
   ]
  },
  {
   "cell_type": "code",
   "execution_count": null,
   "id": "ac1cf901",
   "metadata": {},
   "outputs": [],
   "source": [
    "df2 = df[df['duration_hours'] < 1]"
   ]
  },
  {
   "cell_type": "code",
   "execution_count": null,
   "id": "44d3c80b-b816-4a72-96cc-beb24f662431",
   "metadata": {},
   "outputs": [],
   "source": [
    "# Create histogram with plot.ly, set x to price and color to paint color, create discrete color map to match colors\n",
    "fig = px.histogram(df2, x='duration_mins', color = 'ufo_shape', category_orders={'month': months_ordered})\n",
    "\n",
    "# Rename axis, title and legend\n",
    "fig.update_layout(xaxis_title='Duration of Encounter (secs)', yaxis_title=('Count'), title= '',\n",
    "                 legend_title = 'Color')\n",
    "\n",
    "\n",
    "\n",
    "# Set maximim axes to 50000\n",
    "fig.update_xaxes(maxallowed=50000)\n",
    "\n",
    "# Show figure\n",
    "fig.show()"
   ]
  },
  {
   "cell_type": "code",
   "execution_count": null,
   "id": "c294f17b",
   "metadata": {},
   "outputs": [],
   "source": [
    "# Find unique shapes\n",
    "shapes= df['ufo_shape'].unique()\n",
    "\n",
    "# Create \n",
    "shapes_for_map = st.selectbox('Shape of the sighted UFO:', shapes)\n",
    "\n",
    "# Create variables to measure by for map\n",
    "list_for_map= ['duration_secs','age'] \n",
    "choice_for_map= st.selectbox('Increase bubble size by:', list_for_map)"
   ]
  },
  {
   "cell_type": "code",
   "execution_count": null,
   "id": "1466d77d",
   "metadata": {},
   "outputs": [],
   "source": [
    "import plotly.graph_objects as go\n",
    "\n",
    "scl = [0,\"rgb(150,0,90)\"],[0.125,\"rgb(0, 0, 200)\"],[0.25,\"rgb(0, 25, 255)\"],\\\n",
    "[0.375,\"rgb(0, 152, 255)\"],[0.5,\"rgb(44, 255, 150)\"],[0.625,\"rgb(151, 255, 0)\"],\\\n",
    "[0.75,\"rgb(255, 234, 0)\"],[0.875,\"rgb(255, 111, 0)\"],[1,\"rgb(255, 0, 0)\"]\n",
    "\n",
    "df1 = df[df['ufo_shape'] == shapes_for_map]\n",
    "\n",
    "\n",
    "\n",
    "fig2 = go.Figure(data=go.Scattergeo(\n",
    "    lat = df1['latitude'],\n",
    "    lon = df1['longitude'],\n",
    "    text = df1['description'],\n",
    "    hovertext= df1['description'],\n",
    "    marker = dict(\n",
    "        color = df1['age'],\n",
    "        colorscale = scl,\n",
    "        reversescale = True,\n",
    "        opacity = 0.7,\n",
    "        size = 5,\n",
    "        colorbar = dict(\n",
    "            titleside = \"top\",\n",
    "            outlinecolor = \"rgba(68, 68, 68, 0)\",\n",
    "            title= 'Age'\n",
    "        )\n",
    "    )\n",
    "))\n",
    "\n",
    "\n",
    "fig.update_layout(\n",
    "    geo = dict(\n",
    "        scope = 'world',\n",
    "        showland = True,\n",
    "        landcolor = \"rgb(212, 212, 212)\",\n",
    "        subunitcolor = \"rgb(255, 255, 255)\",\n",
    "        countrycolor = \"rgb(255, 255, 255)\",\n",
    "        showlakes = True,\n",
    "        lakecolor = \"rgb(255, 255, 255)\",\n",
    "        showsubunits = True,\n",
    "        showcountries = True,\n",
    "        resolution = 110\n",
    "    ),\n",
    "    title='Encounters Where the UFO Shape is a {}'.format(shapes_for_map), \n",
    "    width=1000,\n",
    "    height=800,\n",
    "    legend_title='Age'\n",
    "\n",
    ")\n",
    "fig2.show()"
   ]
  },
  {
   "cell_type": "code",
   "execution_count": null,
   "id": "f1512a57",
   "metadata": {},
   "outputs": [],
   "source": [
    "c_d = df[df['country'] == 'Bermuda']['description']"
   ]
  },
  {
   "cell_type": "markdown",
   "id": "a0a0b81b",
   "metadata": {},
   "source": [
    "## Issues: \n",
    "1. Kernal, when re-run provides results, but stops before then\n",
    "2. Using pd.to_csv and pd.read_csv file does not merge, but when runnng all kernals, it works fine\n",
    "3. Merge isn't working still...\n",
    "4. "
   ]
  },
  {
   "cell_type": "code",
   "execution_count": null,
   "id": "1da42ec7",
   "metadata": {},
   "outputs": [],
   "source": []
  }
 ],
 "metadata": {
  "kernelspec": {
   "display_name": "Python 3 (ipykernel)",
   "language": "python",
   "name": "python3"
  },
  "language_info": {
   "codemirror_mode": {
    "name": "ipython",
    "version": 3
   },
   "file_extension": ".py",
   "mimetype": "text/x-python",
   "name": "python",
   "nbconvert_exporter": "python",
   "pygments_lexer": "ipython3",
   "version": "3.10.13"
  }
 },
 "nbformat": 4,
 "nbformat_minor": 5
}
